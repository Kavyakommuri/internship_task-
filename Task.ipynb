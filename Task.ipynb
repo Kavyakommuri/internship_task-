{
 "cells": [
  {
   "cell_type": "code",
   "execution_count": 15,
   "metadata": {},
   "outputs": [
    {
     "name": "stdout",
     "output_type": "stream",
     "text": [
      "enter the string:satyanarayanakommuri\n",
      "                                                                                    s\n",
      "\n",
      "                                                                                   sa\n",
      "\n",
      "                                                                                  sat\n",
      "\n",
      "                                                                                 saty\n",
      "\n",
      "                                                                                satya\n",
      "\n",
      "                                                                               satyan\n",
      "\n",
      "                                                                              satyana\n",
      "\n",
      "                                                                             satyanar\n",
      "\n",
      "                                                                            satyanara\n",
      "\n",
      "                                                                           satyanaray\n",
      "\n",
      "                                                                          satyanaraya\n",
      "\n",
      "                                                                         satyanarayan\n",
      "\n",
      "                                                                        satyanarayana\n",
      "\n",
      "                                                                       satyanarayanak\n",
      "\n",
      "                                                                      satyanarayanako\n",
      "\n",
      "                                                                     satyanarayanakom\n",
      "\n",
      "                                                                    satyanarayanakomm\n",
      "\n",
      "                                                                   satyanarayanakommu\n",
      "\n",
      "                                                                  satyanarayanakommur\n",
      "\n",
      "                                                                 satyanarayanakommuri\n",
      "\n"
     ]
    }
   ],
   "source": [
    "#Q.1\n",
    "\n",
    "string = input(\"enter the string:\")\n",
    "a=1\n",
    "for i in string:\n",
    "    print(string[0:a].rjust(85))\n",
    "    a+=1\n",
    "    print()"
   ]
  },
  {
   "cell_type": "code",
   "execution_count": 57,
   "metadata": {},
   "outputs": [
    {
     "data": {
      "text/html": [
       "<div>\n",
       "<style scoped>\n",
       "    .dataframe tbody tr th:only-of-type {\n",
       "        vertical-align: middle;\n",
       "    }\n",
       "\n",
       "    .dataframe tbody tr th {\n",
       "        vertical-align: top;\n",
       "    }\n",
       "\n",
       "    .dataframe thead th {\n",
       "        text-align: right;\n",
       "    }\n",
       "</style>\n",
       "<table border=\"1\" class=\"dataframe\">\n",
       "  <thead>\n",
       "    <tr style=\"text-align: right;\">\n",
       "      <th></th>\n",
       "      <th>first_name</th>\n",
       "      <th>last_name</th>\n",
       "      <th>sex</th>\n",
       "      <th>attend</th>\n",
       "    </tr>\n",
       "  </thead>\n",
       "  <tbody>\n",
       "    <tr>\n",
       "      <th>0</th>\n",
       "      <td>Henry</td>\n",
       "      <td>Ford</td>\n",
       "      <td>M</td>\n",
       "      <td>Y</td>\n",
       "    </tr>\n",
       "    <tr>\n",
       "      <th>2</th>\n",
       "      <td>Kavya</td>\n",
       "      <td>Rao</td>\n",
       "      <td>F</td>\n",
       "      <td>Y</td>\n",
       "    </tr>\n",
       "    <tr>\n",
       "      <th>4</th>\n",
       "      <td>Nagesh</td>\n",
       "      <td>Reddy</td>\n",
       "      <td>M</td>\n",
       "      <td>Y</td>\n",
       "    </tr>\n",
       "    <tr>\n",
       "      <th>5</th>\n",
       "      <td>Keerthi</td>\n",
       "      <td>Rao</td>\n",
       "      <td>F</td>\n",
       "      <td>Y</td>\n",
       "    </tr>\n",
       "  </tbody>\n",
       "</table>\n",
       "</div>"
      ],
      "text/plain": [
       "  first_name last_name sex attend\n",
       "0      Henry      Ford   M      Y\n",
       "2      Kavya       Rao   F      Y\n",
       "4     Nagesh     Reddy   M      Y\n",
       "5    Keerthi       Rao   F      Y"
      ]
     },
     "execution_count": 57,
     "metadata": {},
     "output_type": "execute_result"
    }
   ],
   "source": [
    "#Q2\n",
    "import pandas as pd\n",
    "\n",
    "thisdict = {\"first_name\": [\"Henry\", \"Ram\", \"Kavya\", \"Deepu\", \"Nagesh\", \"Keerthi\"],\n",
    "            \"last_name\": [\"Ford\", \"Reddy\", \"Rao\", \"Rao\", \"Reddy\", \"Rao\"],\n",
    "            \"sex\": [\"M\", \"M\", \"F\", \"M\", \"M\", \"F\"],\n",
    "            \"attend\": [\"Y\", \"N\", \"Y\", \"N\", \"Y\", \"Y\"]}\n",
    "\n",
    "class Student:\n",
    "    \"\"\"A simple student class\"\"\"\n",
    "    def name_absentees(thisdict):\n",
    "        df = pd.DataFrame.from_dict(thisdict)\n",
    "        is_present = df['attend'] == \"Y\"\n",
    "        return df[is_present]\n",
    "\n",
    "\n",
    "Student.name_absentees(thisdict)"
   ]
  },
  {
   "cell_type": "code",
   "execution_count": 31,
   "metadata": {},
   "outputs": [
    {
     "name": "stdout",
     "output_type": "stream",
     "text": [
      "apple : 3\n",
      "dog : 1\n",
      "man : 3\n",
      "talk : 2\n",
      "bag : 3\n",
      "is : 1\n",
      "of : 1\n",
      "in : 2\n",
      "an : 1\n",
      "orange : 1\n"
     ]
    }
   ],
   "source": [
    "#Q.3\n",
    "file = open(\"filename.txt\",'r')      #change the name of the file accordingly \n",
    "unique=dict()\n",
    "for l in file:\n",
    "    l = l.strip()\n",
    "    l= l.lower()\n",
    "    n=l.split(\" \")\n",
    "    for word in n:\n",
    "        if word in unique:\n",
    "            unique[word]=unique[word]+1\n",
    "        else:\n",
    "            unique[word]=1\n",
    "    for key in list(unique.keys()):\n",
    "        print(key,\":\",unique[key])"
   ]
  },
  {
   "cell_type": "code",
   "execution_count": null,
   "metadata": {},
   "outputs": [],
   "source": [
    "   "
   ]
  },
  {
   "cell_type": "code",
   "execution_count": 55,
   "metadata": {},
   "outputs": [
    {
     "name": "stdout",
     "output_type": "stream",
     "text": [
      "First names :  ['Maria', 'Matteo', 'Maria', 'Marcello', 'Francesca', 'Francesca']\n",
      "Last names :   ['Rossi', 'Caffeo', 'Garzie', 'Bellomi', 'Perini', 'Barbazeni']\n",
      "Counter({'Maria': 2, 'Francesca': 2, 'Matteo': 1, 'Marcello': 1})\n"
     ]
    }
   ],
   "source": [
    "#Q.4\n",
    "from collections import Counter\n",
    "\n",
    "names = [\"Maria Rossi\", \"Matteo Caffeo\", \"Maria Garzie\", \"Marcello Bellomi\", \"Francesca Perini\", \"Francesca Barbazeni\"]\n",
    "\n",
    "firstname = []\n",
    "lastname = []\n",
    "for name in names:\n",
    "    \n",
    "    first, last = name.split()\n",
    "    firstname.append(first)\n",
    "    lastname.append(last)\n",
    "\n",
    "print('First names : ', firstname)\n",
    "print('Last names :  ' , lastname)\n",
    "\n",
    "\n",
    "class Student(object):\n",
    "    def firstnames(self):\n",
    "        print(Counter(firstname))\n",
    "\n",
    "names = Student()\n",
    "names.firstnames()"
   ]
  },
  {
   "cell_type": "code",
   "execution_count": null,
   "metadata": {},
   "outputs": [],
   "source": []
  },
  {
   "cell_type": "code",
   "execution_count": null,
   "metadata": {},
   "outputs": [],
   "source": []
  }
 ],
 "metadata": {
  "kernelspec": {
   "display_name": "Python 3",
   "language": "python",
   "name": "python3"
  },
  "language_info": {
   "codemirror_mode": {
    "name": "ipython",
    "version": 3
   },
   "file_extension": ".py",
   "mimetype": "text/x-python",
   "name": "python",
   "nbconvert_exporter": "python",
   "pygments_lexer": "ipython3",
   "version": "3.6.8"
  }
 },
 "nbformat": 4,
 "nbformat_minor": 2
}
